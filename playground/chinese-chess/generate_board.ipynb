{
 "cells": [
  {
   "cell_type": "code",
   "execution_count": 136,
   "metadata": {},
   "outputs": [
    {
     "data": {
      "image/png": "[encoded data removed]",
      "text/plain": [
       "<Figure size 540x600 with 1 Axes>"
      ]
     },
     "metadata": {},
     "output_type": "display_data"
    }
   ],
   "source": [
    "import matplotlib.pyplot as plt\n",
    "from PIL import Image\n",
    "\n",
    "# Board dimensions\n",
    "cols, rows = 9, 10\n",
    "board_width = 540   # Fixed width\n",
    "board_height = 600  # Fixed height\n",
    "cell_size = 60  # Ensuring 1 interval = 1 pixel\n",
    "margin = cell_size / 2  # Half of the cell size\n",
    "# margin = 0\n",
    "\n",
    "# Create figure and axis\n",
    "fig = plt.figure(figsize=(board_width / 100, board_height / 100), dpi=100)\n",
    "ax = fig.add_axes([0, 0, 1, 1])  # Ensures the board fits exactly without extra padding\n",
    "\n",
    "# Set background color\n",
    "fig.patch.set_facecolor('lightgray')  # Image background\n",
    "ax.set_facecolor('white')  # Board background\n",
    "\n",
    "# Set axis limits to ensure 1 interval = 1 pixel\n",
    "ax.set_xlim(0, board_width)\n",
    "ax.set_ylim(0, board_height)\n",
    "ax.set_aspect('equal')  # Ensures 1:1 scaling between x and y\n",
    "\n",
    "# Draw vertical lines\n",
    "for i in range(cols):\n",
    "    x = margin + i * cell_size\n",
    "    if i == 0 or i == cols - 1:\n",
    "        ax.plot([x, x], [margin, margin + cell_size * 9], color='black', linewidth=2)\n",
    "    else:\n",
    "        ax.plot([x, x], [margin, margin + cell_size * 4], color='black', linewidth=2)\n",
    "        ax.plot([x, x], [margin + cell_size * 5, margin + cell_size * 9], color='black', linewidth=2)\n",
    "        \n",
    "# Draw horizontal lines\n",
    "for i in range(rows):\n",
    "    y = margin + i * cell_size\n",
    "    ax.plot([margin, margin + cell_size * (cols - 1)], [y, y], color='black', linewidth=2)\n",
    "\n",
    "# Draw palace areas (九宫) with diagonal lines\n",
    "palace_x_start = margin + 3 * cell_size\n",
    "palace_x_end = margin + 5 * cell_size\n",
    "palace_y_top = [margin, margin + 2 * cell_size]\n",
    "palace_y_bottom = [margin + 7 * cell_size, margin + 9 * cell_size]\n",
    "\n",
    "ax.plot([palace_x_start, palace_x_end], [palace_y_top[0], palace_y_top[1]], color='black', linewidth=2)\n",
    "ax.plot([palace_x_end, palace_x_start], [palace_y_top[0], palace_y_top[1]], color='black', linewidth=2)\n",
    "ax.plot([palace_x_start, palace_x_end], [palace_y_bottom[1], palace_y_bottom[0]], color='black', linewidth=2)\n",
    "ax.plot([palace_x_end, palace_x_start], [palace_y_bottom[1], palace_y_bottom[0]], color='black', linewidth=2)\n",
    "\n",
    "# Add \"楚河汉界\" (Chu River, Han Border) text\n",
    "ax.text(margin + cell_size * 8 * 1 / 4, margin + cell_size * 4.5, \"汉界\", fontsize=20, fontweight='bold', ha='center', va='center', fontname=\"Arial Unicode MS\", color='black')\n",
    "ax.text(margin + cell_size * 8 * 3 / 4, margin + cell_size * 4.5, \"楚河\", fontsize=20, fontweight='bold', ha='center', va='center', fontname=\"Arial Unicode MS\", color='black')\n",
    "\n",
    "# Draw intersections for piece placements\n",
    "for row in range(rows):\n",
    "    for col in range(cols):\n",
    "        ax.scatter(margin + col * cell_size, margin + row * cell_size, color='black', s=20)\n",
    "\n",
    "# Remove axis ticks and labels\n",
    "# ax.set_xticks([])\n",
    "# ax.set_yticks([])\n",
    "ax.set_frame_on(False)\n",
    "ax.axis(\"off\")\n",
    "\n",
    "# Save the generated board image\n",
    "board_image_path = \"./img/chessboard.png\"\n",
    "plt.savefig(board_image_path, dpi=100, bbox_inches='tight', pad_inches=0)\n",
    "\n",
    "# Show the corrected board\n",
    "plt.show()\n",
    "\n",
    "# Resize to exactly 540x600 to match your CSS\n",
    "image = Image.open(board_image_path)\n",
    "resized_image = image.resize((540, 600))\n",
    "resized_image.save(board_image_path)\n"
   ]
  },
  {
   "cell_type": "code",
   "execution_count": null,
   "metadata": {},
   "outputs": [],
   "source": []
  }
 ],
 "metadata": {
  "kernelspec": {
   "display_name": "hello-algo",
   "language": "python",
   "name": "python3"
  },
  "language_info": {
   "codemirror_mode": {
    "name": "ipython",
    "version": 3
   },
   "file_extension": ".py",
   "mimetype": "text/x-python",
   "name": "python",
   "nbconvert_exporter": "python",
   "pygments_lexer": "ipython3",
   "version": "3.12.4"
  }
 },
 "nbformat": 4,
 "nbformat_minor": 2
}
